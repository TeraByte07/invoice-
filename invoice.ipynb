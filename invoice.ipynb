{
 "cells": [
  {
   "cell_type": "code",
   "execution_count": 6,
   "metadata": {},
   "outputs": [
    {
     "name": "stdout",
     "output_type": "stream",
     "text": [
      "**************************************************\n",
      "\t\tYoungdev Ltd\n",
      "\t\tIba New Site,Lagos\n",
      "\t\tLagos\n",
      "**************************************************\n",
      "\tProduct Name\t\tProduct price\n",
      "\tLaptop\t\t\t#200000\n",
      "\tPhone\t\t\t#150000\n",
      "==================================================\n",
      "\t\t\t\tTotal\n",
      "\t\t\t\t#350000\n",
      "==================================================\n",
      "\n",
      "\tThanks for shopping with us\n",
      "\n"
     ]
    }
   ],
   "source": [
    "pro1_name, pro1_price = input('Enter goods bought') , int(input('Enter price'))\n",
    "pro2_name, pro2_price = input('Enter goods bought'), int(input('Enter price'))\n",
    "\n",
    "company = 'YoungDev ltd'\n",
    "address = 'Iba new site,Lagos'\n",
    "city = 'Lagos'\n",
    "message = 'Thanks for shopping with us'\n",
    "# create a top border\n",
    "print('*' * 50)\n",
    "\n",
    "print('\\t\\t{}'.format(company.title()))\n",
    "print('\\t\\t{}'.format(address.title()))\n",
    "print('\\t\\t{}'.format(city.title()))\n",
    "\n",
    "\n",
    "print('*' * 50)\n",
    "print('\\tProduct Name\\t\\tProduct price')\n",
    "\n",
    "print('\\t{}\\t\\t\\t#{}'.format(pro1_name.title(), pro1_price))\n",
    "print('\\t{}\\t\\t\\t#{}'.format(pro2_name.title(), pro2_price))\n",
    "\n",
    "print('=' * 50)\n",
    "print('\\t\\t\\t\\tTotal')\n",
    "total = pro1_price + pro2_price\n",
    "print('\\t\\t\\t\\t#{}'.format(total))\n",
    "print('=' * 50)\n",
    "\n",
    "print('\\n\\t{}\\n'.format(message))"
   ]
  }
 ],
 "metadata": {
  "interpreter": {
   "hash": "88a8c6c12fd18c9ea31f02c3edde081b1d7b9afc1df3cb9771725749b1e9230f"
  },
  "kernelspec": {
   "display_name": "Python 3.8.5 ('base')",
   "language": "python",
   "name": "python3"
  },
  "language_info": {
   "codemirror_mode": {
    "name": "ipython",
    "version": 3
   },
   "file_extension": ".py",
   "mimetype": "text/x-python",
   "name": "python",
   "nbconvert_exporter": "python",
   "pygments_lexer": "ipython3",
   "version": "3.8.5"
  },
  "orig_nbformat": 4
 },
 "nbformat": 4,
 "nbformat_minor": 2
}
